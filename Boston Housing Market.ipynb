{
  "cells": [
    {
      "cell_type": "code",
      "execution_count": null,
      "metadata": {
        "colab": {
          "background_save": true,
          "base_uri": "https://localhost:8080/",
          "height": 37
        },
        "id": "eAwbMKEMnQDf",
        "outputId": "e0317b07-f7f8-4345-b06c-db24078edadf"
      },
      "outputs": [
        {
          "data": {
            "text/html": [
              "\n",
              "     <input type=\"file\" id=\"files-8ba78d17-b340-459c-b143-7b409f46e430\" name=\"files[]\" multiple disabled\n",
              "        style=\"border:none\" />\n",
              "     <output id=\"result-8ba78d17-b340-459c-b143-7b409f46e430\">\n",
              "      Upload widget is only available when the cell has been executed in the\n",
              "      current browser session. Please rerun this cell to enable.\n",
              "      </output>\n",
              "      <script>// Copyright 2017 Google LLC\n",
              "//\n",
              "// Licensed under the Apache License, Version 2.0 (the \"License\");\n",
              "// you may not use this file except in compliance with the License.\n",
              "// You may obtain a copy of the License at\n",
              "//\n",
              "//      http://www.apache.org/licenses/LICENSE-2.0\n",
              "//\n",
              "// Unless required by applicable law or agreed to in writing, software\n",
              "// distributed under the License is distributed on an \"AS IS\" BASIS,\n",
              "// WITHOUT WARRANTIES OR CONDITIONS OF ANY KIND, either express or implied.\n",
              "// See the License for the specific language governing permissions and\n",
              "// limitations under the License.\n",
              "\n",
              "/**\n",
              " * @fileoverview Helpers for google.colab Python module.\n",
              " */\n",
              "(function(scope) {\n",
              "function span(text, styleAttributes = {}) {\n",
              "  const element = document.createElement('span');\n",
              "  element.textContent = text;\n",
              "  for (const key of Object.keys(styleAttributes)) {\n",
              "    element.style[key] = styleAttributes[key];\n",
              "  }\n",
              "  return element;\n",
              "}\n",
              "\n",
              "// Max number of bytes which will be uploaded at a time.\n",
              "const MAX_PAYLOAD_SIZE = 100 * 1024;\n",
              "\n",
              "function _uploadFiles(inputId, outputId) {\n",
              "  const steps = uploadFilesStep(inputId, outputId);\n",
              "  const outputElement = document.getElementById(outputId);\n",
              "  // Cache steps on the outputElement to make it available for the next call\n",
              "  // to uploadFilesContinue from Python.\n",
              "  outputElement.steps = steps;\n",
              "\n",
              "  return _uploadFilesContinue(outputId);\n",
              "}\n",
              "\n",
              "// This is roughly an async generator (not supported in the browser yet),\n",
              "// where there are multiple asynchronous steps and the Python side is going\n",
              "// to poll for completion of each step.\n",
              "// This uses a Promise to block the python side on completion of each step,\n",
              "// then passes the result of the previous step as the input to the next step.\n",
              "function _uploadFilesContinue(outputId) {\n",
              "  const outputElement = document.getElementById(outputId);\n",
              "  const steps = outputElement.steps;\n",
              "\n",
              "  const next = steps.next(outputElement.lastPromiseValue);\n",
              "  return Promise.resolve(next.value.promise).then((value) => {\n",
              "    // Cache the last promise value to make it available to the next\n",
              "    // step of the generator.\n",
              "    outputElement.lastPromiseValue = value;\n",
              "    return next.value.response;\n",
              "  });\n",
              "}\n",
              "\n",
              "/**\n",
              " * Generator function which is called between each async step of the upload\n",
              " * process.\n",
              " * @param {string} inputId Element ID of the input file picker element.\n",
              " * @param {string} outputId Element ID of the output display.\n",
              " * @return {!Iterable<!Object>} Iterable of next steps.\n",
              " */\n",
              "function* uploadFilesStep(inputId, outputId) {\n",
              "  const inputElement = document.getElementById(inputId);\n",
              "  inputElement.disabled = false;\n",
              "\n",
              "  const outputElement = document.getElementById(outputId);\n",
              "  outputElement.innerHTML = '';\n",
              "\n",
              "  const pickedPromise = new Promise((resolve) => {\n",
              "    inputElement.addEventListener('change', (e) => {\n",
              "      resolve(e.target.files);\n",
              "    });\n",
              "  });\n",
              "\n",
              "  const cancel = document.createElement('button');\n",
              "  inputElement.parentElement.appendChild(cancel);\n",
              "  cancel.textContent = 'Cancel upload';\n",
              "  const cancelPromise = new Promise((resolve) => {\n",
              "    cancel.onclick = () => {\n",
              "      resolve(null);\n",
              "    };\n",
              "  });\n",
              "\n",
              "  // Wait for the user to pick the files.\n",
              "  const files = yield {\n",
              "    promise: Promise.race([pickedPromise, cancelPromise]),\n",
              "    response: {\n",
              "      action: 'starting',\n",
              "    }\n",
              "  };\n",
              "\n",
              "  cancel.remove();\n",
              "\n",
              "  // Disable the input element since further picks are not allowed.\n",
              "  inputElement.disabled = true;\n",
              "\n",
              "  if (!files) {\n",
              "    return {\n",
              "      response: {\n",
              "        action: 'complete',\n",
              "      }\n",
              "    };\n",
              "  }\n",
              "\n",
              "  for (const file of files) {\n",
              "    const li = document.createElement('li');\n",
              "    li.append(span(file.name, {fontWeight: 'bold'}));\n",
              "    li.append(span(\n",
              "        `(${file.type || 'n/a'}) - ${file.size} bytes, ` +\n",
              "        `last modified: ${\n",
              "            file.lastModifiedDate ? file.lastModifiedDate.toLocaleDateString() :\n",
              "                                    'n/a'} - `));\n",
              "    const percent = span('0% done');\n",
              "    li.appendChild(percent);\n",
              "\n",
              "    outputElement.appendChild(li);\n",
              "\n",
              "    const fileDataPromise = new Promise((resolve) => {\n",
              "      const reader = new FileReader();\n",
              "      reader.onload = (e) => {\n",
              "        resolve(e.target.result);\n",
              "      };\n",
              "      reader.readAsArrayBuffer(file);\n",
              "    });\n",
              "    // Wait for the data to be ready.\n",
              "    let fileData = yield {\n",
              "      promise: fileDataPromise,\n",
              "      response: {\n",
              "        action: 'continue',\n",
              "      }\n",
              "    };\n",
              "\n",
              "    // Use a chunked sending to avoid message size limits. See b/62115660.\n",
              "    let position = 0;\n",
              "    do {\n",
              "      const length = Math.min(fileData.byteLength - position, MAX_PAYLOAD_SIZE);\n",
              "      const chunk = new Uint8Array(fileData, position, length);\n",
              "      position += length;\n",
              "\n",
              "      const base64 = btoa(String.fromCharCode.apply(null, chunk));\n",
              "      yield {\n",
              "        response: {\n",
              "          action: 'append',\n",
              "          file: file.name,\n",
              "          data: base64,\n",
              "        },\n",
              "      };\n",
              "\n",
              "      let percentDone = fileData.byteLength === 0 ?\n",
              "          100 :\n",
              "          Math.round((position / fileData.byteLength) * 100);\n",
              "      percent.textContent = `${percentDone}% done`;\n",
              "\n",
              "    } while (position < fileData.byteLength);\n",
              "  }\n",
              "\n",
              "  // All done.\n",
              "  yield {\n",
              "    response: {\n",
              "      action: 'complete',\n",
              "    }\n",
              "  };\n",
              "}\n",
              "\n",
              "scope.google = scope.google || {};\n",
              "scope.google.colab = scope.google.colab || {};\n",
              "scope.google.colab._files = {\n",
              "  _uploadFiles,\n",
              "  _uploadFilesContinue,\n",
              "};\n",
              "})(self);\n",
              "</script> "
            ],
            "text/plain": [
              "<IPython.core.display.HTML object>"
            ]
          },
          "metadata": {},
          "output_type": "display_data"
        }
      ],
      "source": [
        "from google.colab import files\n",
        "uploaded = files.upload()"
      ]
    },
    {
      "cell_type": "code",
      "execution_count": null,
      "metadata": {
        "id": "sPCKUGOJo1YK"
      },
      "outputs": [],
      "source": [
        "import pandas as pd\n",
        "bostonhousing_df = pd.read_excel(\"BostonHousing.xlsx\", 'Data') #Load data\n",
        "bostonhousing_df.head(20)"
      ]
    },
    {
      "cell_type": "code",
      "execution_count": null,
      "metadata": {
        "id": "umSp-WfTq5Y7"
      },
      "outputs": [],
      "source": [
        "print(bostonhousing_df.columns)\n",
        "print(bostonhousing_df.head())\n",
        "bostonhousing_df.dtypes"
      ]
    },
    {
      "cell_type": "code",
      "execution_count": null,
      "metadata": {
        "id": "OHuzMyRWnUsd"
      },
      "outputs": [],
      "source": [
        "#Check if there are other values aside from NA and Blanks that is considered as a NaN.\n",
        "CRIM_non_num = bostonhousing_df[\"CRIM\"].apply(lambda x: not isinstance(x, float))\n",
        "CRIM_non_num = bostonhousing_df[CRIM_non_num][\"CRIM\"].unique()\n",
        "print(\"CRIM non-numbers: \",CRIM_non_num)\n",
        "ZN_non_num = bostonhousing_df[\"ZN\"].apply(lambda x: not isinstance(x, float))\n",
        "ZN_non_num = bostonhousing_df[ZN_non_num][\"ZN\"].unique()\n",
        "print(\"ZN non-numbers: \", ZN_non_num)\n",
        "INDUS_non_num = bostonhousing_df[\"INDUS\"].apply(lambda x: not isinstance(x, (float,int)))\n",
        "INDUS_non_num = bostonhousing_df[INDUS_non_num][\"INDUS\"].unique()\n",
        "print(\"INDUS non-numbers: \", INDUS_non_num)\n",
        "CHAS_non_num = bostonhousing_df[\"CHAS\"].apply(lambda x: not isinstance(x, int))\n",
        "CHAS_non_num = bostonhousing_df[CHAS_non_num][\"CHAS\"].unique()\n",
        "print(\"CHAS non-numbers: \", CHAS_non_num)\n",
        "NOX_non_num = bostonhousing_df[\"NOX\"].apply(lambda x: not isinstance(x, (float,int)))\n",
        "NOX_non_num = bostonhousing_df[NOX_non_num][\"NOX\"].unique()\n",
        "print(\"NOX non-numbers: \", NOX_non_num)\n",
        "RM_non_num = bostonhousing_df[\"RM\"].apply(lambda x: not isinstance(x, float))\n",
        "RM_non_num = bostonhousing_df[RM_non_num][\"RM\"].unique()\n",
        "print(\"RM non-numbers: \", RM_non_num)\n",
        "AGE_non_num = bostonhousing_df[\"AGE\"].apply(lambda x: not isinstance(x, float))\n",
        "AGE_non_num = bostonhousing_df[AGE_non_num][\"AGE\"].unique()\n",
        "print(\"AGE non-numbers: \", AGE_non_num)\n",
        "DIS_non_num = bostonhousing_df[\"DIS\"].apply(lambda x: not isinstance(x, (float,int)))\n",
        "DIS_non_num = bostonhousing_df[DIS_non_num][\"DIS\"].unique()\n",
        "print(\"DIS non-numbers: \", DIS_non_num)\n",
        "RAD_non_num = bostonhousing_df[\"RAD\"].apply(lambda x: not isinstance(x, int))\n",
        "RAD_non_num = bostonhousing_df[RAD_non_num][\"RAD\"].unique()\n",
        "print(\"RAD non-numbers: \", RAD_non_num)\n",
        "TAX_non_num = bostonhousing_df[\"TAX\"].apply(lambda x: not isinstance(x, int))\n",
        "TAX_non_num = bostonhousing_df[TAX_non_num][\"TAX\"].unique()\n",
        "print(\"TAX non-numbers: \", TAX_non_num)\n",
        "PTRATIO_non_num = bostonhousing_df[\"PTRATIO\"].apply(lambda x: not isinstance(x, (float,int)))\n",
        "PTRATIO_non_num = bostonhousing_df[PTRATIO_non_num][\"PTRATIO\"].unique()\n",
        "print(\"PTRATIO non-numbers: \", PTRATIO_non_num)"
      ]
    },
    {
      "cell_type": "code",
      "execution_count": null,
      "metadata": {
        "id": "V8ikPW2dnW1n"
      },
      "outputs": [],
      "source": [
        "#replacing other Non-numberic values to NaN\n",
        "import numpy as np\n",
        "bostonhousing_df.replace ([\"****\",\"Sara\", \"*****\", \"&&&\", \" \", \"Alina\", \"##\", \"Adam\"],np.nan, inplace = True)\n",
        "bostonhousing_df"
      ]
    },
    {
      "cell_type": "code",
      "execution_count": null,
      "metadata": {
        "id": "gTuJ6tLcna9_"
      },
      "outputs": [],
      "source": [
        "print(bostonhousing_df.columns)\n",
        "print(bostonhousing_df.head())"
      ]
    },
    {
      "cell_type": "code",
      "execution_count": null,
      "metadata": {
        "id": "ViVgWr7lne3l"
      },
      "outputs": [],
      "source": [
        "#check for null values\n",
        "bostonhousing_df.isnull().sum()\n",
        "#We know that there are null values in the following columns:INDUS, NOX, DIS, PTRATIO"
      ]
    },
    {
      "cell_type": "code",
      "execution_count": null,
      "metadata": {
        "id": "a2Ts41aMng5e"
      },
      "outputs": [],
      "source": [
        "bostonhousing_df.shape # check dimensions --checking how big is the dataset"
      ]
    },
    {
      "cell_type": "code",
      "execution_count": null,
      "metadata": {
        "id": "YOQh-sronijn"
      },
      "outputs": [],
      "source": [
        "import numpy as np\n",
        "#Removing rows that has more than 2 NaN values\n",
        "bostonhousing_df = bostonhousing_df[bostonhousing_df.isnull().sum(axis=1) < 2]\n",
        "bostonhousing_df"
      ]
    },
    {
      "cell_type": "code",
      "execution_count": null,
      "metadata": {
        "id": "FDeW_4zynktd"
      },
      "outputs": [],
      "source": [
        "bostonhousing_df.shape # check dimensions --checking how big is the dataset"
      ]
    },
    {
      "cell_type": "code",
      "execution_count": null,
      "metadata": {
        "id": "6hhjNNrAnnTU"
      },
      "outputs": [],
      "source": [
        "# median for columns with missing data\n",
        "#Getting the median for each columns\n",
        "medianINDUS = bostonhousing_df['INDUS'].median(skipna=True)\n",
        "medianNOX = bostonhousing_df['NOX'].median(skipna=True)\n",
        "medianDIS = bostonhousing_df['DIS'].median(skipna=True)\n",
        "print ('MedianINDUS: ',medianINDUS,\"Count INDUS :\",bostonhousing_df['INDUS'].count())\n",
        "print ('MedianNOX: ',medianNOX,\"Count NOX :\",bostonhousing_df['NOX'].count())\n",
        "print ('MedianDIS: ',medianDIS,\"Count DIS :\",bostonhousing_df['DIS'].count())"
      ]
    },
    {
      "cell_type": "code",
      "execution_count": null,
      "metadata": {
        "id": "ZdiJVzANno6b"
      },
      "outputs": [],
      "source": [
        "pd.options.mode.chained_assignment = None\n",
        "#Replacing NaN values with the median\n",
        "bostonhousing_df.INDUS = bostonhousing_df.INDUS.fillna(value=medianINDUS)\n",
        "bostonhousing_df.NOX = bostonhousing_df.NOX.fillna(value=medianNOX)\n",
        "bostonhousing_df.DIS = bostonhousing_df.DIS.fillna(value=medianDIS)\n",
        "bostonhousing_df.head(20)"
      ]
    },
    {
      "cell_type": "code",
      "execution_count": null,
      "metadata": {
        "id": "AlSnQx-Vnqxe"
      },
      "outputs": [],
      "source": [
        "bostonhousing_df['PTRATIO'].count()"
      ]
    },
    {
      "cell_type": "code",
      "execution_count": null,
      "metadata": {
        "collapsed": true,
        "id": "-EkgXgpznsFb"
      },
      "outputs": [],
      "source": [
        "#finding the outlier:\n",
        "bostonhousing_df.sort_values(by=\"PTRATIO\")"
      ]
    },
    {
      "cell_type": "code",
      "execution_count": null,
      "metadata": {
        "id": "siJbmBVunyGo"
      },
      "outputs": [],
      "source": [
        "bostonhousing_df[\"MEDV\"] = (bostonhousing_df[\"RM\"] * 1000)"
      ]
    },
    {
      "cell_type": "code",
      "execution_count": null,
      "metadata": {
        "id": "i-LdwB3oKZ63"
      },
      "outputs": [],
      "source": [
        "from sklearn.model_selection import train_test_split\n",
        "from sklearn.linear_model import LinearRegression"
      ]
    },
    {
      "cell_type": "code",
      "execution_count": null,
      "metadata": {
        "id": "pc3vAa44KaBf"
      },
      "outputs": [],
      "source": [
        "X = bostonhousing_df.drop(\"MEDV\", axis=1)  # Replace \"target_variable_column_name\" with the actual column name\n",
        "y = bostonhousing_df[\"MEDV\"]\n"
      ]
    },
    {
      "cell_type": "code",
      "execution_count": null,
      "metadata": {
        "id": "7F9fcVB5KaHX"
      },
      "outputs": [],
      "source": [
        "# Split the data into training and testing subsets\n",
        "X_train, X_test, y_train, y_test = train_test_split(X, y, test_size=0.2, random_state=42)\n"
      ]
    },
    {
      "cell_type": "code",
      "execution_count": null,
      "metadata": {
        "id": "zv8mm-SgKaNj"
      },
      "outputs": [],
      "source": [
        "# Create an instance of the linear regression model\n",
        "model = LinearRegression()\n"
      ]
    },
    {
      "cell_type": "code",
      "execution_count": null,
      "metadata": {
        "id": "wumtBL30QbyB"
      },
      "outputs": [],
      "source": [
        "# Drop rows with missing values from both X_train and y_train\n",
        "X_train = X_train.dropna()\n",
        "y_train = y_train.dropna()"
      ]
    },
    {
      "cell_type": "code",
      "execution_count": null,
      "metadata": {
        "id": "tHX6N95-QHpO"
      },
      "outputs": [],
      "source": [
        "# Fit the imputer on the training data and transform X_train\n",
        "X_train = imputer.fit_transform(X_train)\n",
        "\n",
        "# Reshape y_train to a 2D array\n",
        "y_train = y_train.values.reshape(-1, 1)\n",
        "\n",
        "# Transform y_train using the imputer\n",
        "y_train = imputer.transform(y_train)"
      ]
    },
    {
      "cell_type": "code",
      "execution_count": null,
      "metadata": {
        "id": "YGHdAmzBQjsA"
      },
      "outputs": [],
      "source": [
        "# Fit the imputer on the training data and transform X_train\n",
        "X_train = imputer.fit_transform(X_train)\n",
        "\n",
        "# Reshape y_train to a 2D array\n",
        "y_train = y_train.values.reshape(-1, 1)\n",
        "\n",
        "# Transform y_train using the imputer\n",
        "y_train = imputer.transform(y_train)"
      ]
    },
    {
      "cell_type": "code",
      "execution_count": null,
      "metadata": {
        "id": "0mE93v7TNFRn"
      },
      "outputs": [],
      "source": [
        "# Train the model on the training data\n",
        "model.fit(X_train, y_train)\n"
      ]
    },
    {
      "cell_type": "code",
      "execution_count": null,
      "metadata": {
        "id": "PhZVoBLKNFUU"
      },
      "outputs": [],
      "source": [
        "# Evaluate the model on the testing data\n",
        "score = model.score(X_test, y_test)\n",
        "print(\"R-squared score:\", score)"
      ]
    },
    {
      "cell_type": "code",
      "execution_count": null,
      "metadata": {
        "id": "jUtUabx6NFWu"
      },
      "outputs": [],
      "source": [
        "# Make predictions on new data\n",
        "new_data = pd.DataFrame(...)  # Create a new DataFrame with the same columns as X, containing the new data\n",
        "predictions = model.predict(new_data)\n",
        "print(\"Predictions:\", predictions)"
      ]
    }
  ],
  "metadata": {
    "colab": {
      "provenance": []
    },
    "kernelspec": {
      "display_name": "Python 3",
      "name": "python3"
    },
    "language_info": {
      "name": "python"
    }
  },
  "nbformat": 4,
  "nbformat_minor": 0
}